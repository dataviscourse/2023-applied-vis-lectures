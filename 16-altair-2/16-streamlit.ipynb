{
 "cells": [
  {
   "cell_type": "code",
   "execution_count": 1,
   "id": "2ebcdbba-4aa1-4aee-a21b-490608d7244d",
   "metadata": {
    "trrack_graph": "ᯡ࠽䈌ʀ匦㢠⹰ૠᬺɔ樠〽䁍6ᨡᠤ炰ᣦતĆᙴ䈤㉻媵㡟媦ᑩ•ⳁႧ⋣䁤岵ㅺ穬ⷺ㮕砈ሠڤ-䁁匬㺩j࠰}㩠怣㣣ט䈲曽甠଱絰n杄V䀷⟏咕᥂焕呡䎋ఴ>☤䎃⁰ᦐᓘᐴ㸥࣏‫ㆦ娻ѡڀ䡊疨䈣᢮௴慸ǌ斦Î桸‷柇檈ƺ෉嘨㚨䠼ᇆͽ〤砠ᶶ湞ᢊរ戤⌇ゔᦻၠ戲㉔ㄽ༼㡢㎄悰⤬ì䙬ᩝԦ烣ၲʣ๓ㄌ㗆慀⒀ⓒ摐≦ဠ▅㥄ౖޢᅨ䨭ݤㆸ嘧ྰ椘İ估żŀ夆煩᣹ܰ先ӵᢵ愐攍ࢄ  "
   },
   "outputs": [],
   "source": [
    "# !pip install streamlit"
   ]
  },
  {
   "cell_type": "markdown",
   "id": "e3fb6a82-7b97-46b2-a6c8-5352d92f661c",
   "metadata": {
    "trrack_graph": "ᯡ࠽䈌ʀ匦㢠⹰Ҁᦡత瀥䁣,Ƹ˰ِ឴ነӧ⒠᱑⒄婐慠⬠百凙䫰扪2攩њ㚜挅ᗉ桖㖎槧忀烱Tဠ㚘⢂ཨɰ䂠̂;䘸ᷤၷ㠌䆰×౒䀡ᱼ䠠洠⺡僩暄䁀ᦰ䌐㙌ᠲ̠ۥ䒀ᆀङ姸帣M䘦枦ᄣ憢⇊㜂࡬扄⃥඀ۗᘁϛ愱ǟ㧍ަ⇐⏕≠灭᡺䶠ᏠČ従磡䧛欰煷㟃似沢Ҷ䫳㊐ー⠢ᨩᓣʣ⋣抲ᡱ姼኎܈拰ⱂ冩䎘歭婤䣠⦅墈䚬⁀嫦烩᡼Ⴊ⁰吺ẫ⅐ⱖΥ成Ɂѭ熰wၤᙛ峒ᙁ◧ᐤ兝╅㐴溤ع  "
   },
   "source": [
    "We will learn how to create and deploy web apps which include data visualizations and analysis using the [Streamlit](https://streamlit.io/) project using simple python script and no UI or Server code.\n",
    "\n",
    "Let us do a quick walkthrough to setup a streamlit app before we talk about what features it has. \n",
    "- First create an empty repository on Github to host code for our app.\n",
    "- Clone the repository locally (you can also use streamlit cloud to do this in browser)\n",
    "- Create a python file in the repository.\n",
    "- Add the following code snippet\n",
    "  ```python\n",
    "  import streamlit as st\n",
    "  st.write(\"Hello, World!\")\n",
    "  ```\n",
    "- Run the file using the terminal\n",
    "  ```bash\n",
    "    streamlit run <filename>\n",
    "  ```\n",
    "\n",
    "We can deploy this app using following steps:\n",
    "- Login to [Streamlit Community Cloud](https://share.streamlit.io/) and link your Github\n",
    "- Create a new app from the homescreen and choose option of existing repo\n",
    "- Paste the link of your main file from Github\n",
    "- Click deploy"
   ]
  }
 ],
 "metadata": {
  "__persist_nb_uuid__": "2fd04410-a619-4bfb-8282-b07371367ad7",
  "kernelspec": {
   "display_name": "Python 3 (ipykernel)",
   "language": "python",
   "name": "python3"
  },
  "language_info": {
   "codemirror_mode": {
    "name": "ipython",
    "version": 3
   },
   "file_extension": ".py",
   "mimetype": "text/x-python",
   "name": "python",
   "nbconvert_exporter": "python",
   "pygments_lexer": "ipython3",
   "version": "3.8.16"
  }
 },
 "nbformat": 4,
 "nbformat_minor": 5
}
