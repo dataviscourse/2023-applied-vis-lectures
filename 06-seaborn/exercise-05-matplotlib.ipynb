{
 "cells": [
  {
   "cell_type": "code",
   "execution_count": 2,
   "metadata": {},
   "outputs": [
    {
     "name": "stdout",
     "output_type": "stream",
     "text": [
      "Intel MKL WARNING: Support of Intel(R) Streaming SIMD Extensions 4.2 (Intel(R) SSE4.2) enabled only processors has been deprecated. Intel oneAPI Math Kernel Library 2025.0 will require Intel(R) Advanced Vector Extensions (Intel(R) AVX) instructions.\n",
      "Intel MKL WARNING: Support of Intel(R) Streaming SIMD Extensions 4.2 (Intel(R) SSE4.2) enabled only processors has been deprecated. Intel oneAPI Math Kernel Library 2025.0 will require Intel(R) Advanced Vector Extensions (Intel(R) AVX) instructions.\n"
     ]
    }
   ],
   "source": [
    "import matplotlib\n",
    "import matplotlib.pyplot as plt\n",
    "import pandas as pd\n",
    "import numpy as np\n",
    "plt.style.use('default')\n",
    "# This next line tells jupyter to render the images inline\n",
    "%matplotlib inline\n",
    "import matplotlib_inline\n",
    "# This renders your figures as vector graphics AND gives you an option to download a Pindices too\n",
    "matplotlib_inline.backend_inline.set_matplotlib_formats('svg')\n",
    "\n"
   ]
  },
  {
   "cell_type": "markdown",
   "metadata": {},
   "source": [
    "# Exercise: Visualizing Stock Indices\n",
    "\n",
    "We're loading three stock indices here; the Nasdaq, the SP 500, the Dow Jones. We're also setting it up correclty with date time. "
   ]
  },
  {
   "cell_type": "code",
   "execution_count": 3,
   "metadata": {},
   "outputs": [
    {
     "name": "stdout",
     "output_type": "stream",
     "text": [
      "<class 'pandas.core.frame.DataFrame'>\n",
      "RangeIndex: 950 entries, 0 to 949\n",
      "Data columns (total 4 columns):\n",
      " #   Column     Non-Null Count  Dtype  \n",
      "---  ------     --------------  -----  \n",
      " 0   Date       950 non-null    object \n",
      " 1   Dow Jones  950 non-null    float64\n",
      " 2   SP 500     950 non-null    float64\n",
      " 3   Nasdaq     950 non-null    float64\n",
      "dtypes: float64(3), object(1)\n",
      "memory usage: 29.8+ KB\n"
     ]
    },
    {
     "name": "stderr",
     "output_type": "stream",
     "text": [
      "/var/folders/78/v9g6c9894cg88mtwrljs0kr00000gn/T/ipykernel_76244/656065374.py:3: UserWarning: Could not infer format, so each element will be parsed individually, falling back to `dateutil`. To ensure parsing is consistent and as-expected, please specify a format.\n",
      "  indices[\"Date\"] = indices[\"Date\"].astype(\"datetime64[ns]\")\n"
     ]
    },
    {
     "data": {
      "text/html": [
       "<div>\n",
       "<style scoped>\n",
       "    .dataframe tbody tr th:only-of-type {\n",
       "        vertical-align: middle;\n",
       "    }\n",
       "\n",
       "    .dataframe tbody tr th {\n",
       "        vertical-align: top;\n",
       "    }\n",
       "\n",
       "    .dataframe thead th {\n",
       "        text-align: right;\n",
       "    }\n",
       "</style>\n",
       "<table border=\"1\" class=\"dataframe\">\n",
       "  <thead>\n",
       "    <tr style=\"text-align: right;\">\n",
       "      <th></th>\n",
       "      <th>Dow Jones</th>\n",
       "      <th>SP 500</th>\n",
       "      <th>Nasdaq</th>\n",
       "    </tr>\n",
       "    <tr>\n",
       "      <th>Date</th>\n",
       "      <th></th>\n",
       "      <th></th>\n",
       "      <th></th>\n",
       "    </tr>\n",
       "  </thead>\n",
       "  <tbody>\n",
       "    <tr>\n",
       "      <th>2019-12-02</th>\n",
       "      <td>27783.03906</td>\n",
       "      <td>3113.870117</td>\n",
       "      <td>8309.259766</td>\n",
       "    </tr>\n",
       "    <tr>\n",
       "      <th>2019-12-03</th>\n",
       "      <td>27502.81055</td>\n",
       "      <td>3093.199951</td>\n",
       "      <td>8254.740234</td>\n",
       "    </tr>\n",
       "    <tr>\n",
       "      <th>2019-12-04</th>\n",
       "      <td>27649.77930</td>\n",
       "      <td>3112.760010</td>\n",
       "      <td>8296.530273</td>\n",
       "    </tr>\n",
       "    <tr>\n",
       "      <th>2019-12-05</th>\n",
       "      <td>27677.78906</td>\n",
       "      <td>3117.429932</td>\n",
       "      <td>8308.400391</td>\n",
       "    </tr>\n",
       "    <tr>\n",
       "      <th>2019-12-06</th>\n",
       "      <td>28015.06055</td>\n",
       "      <td>3145.909912</td>\n",
       "      <td>8397.370117</td>\n",
       "    </tr>\n",
       "    <tr>\n",
       "      <th>...</th>\n",
       "      <td>...</td>\n",
       "      <td>...</td>\n",
       "      <td>...</td>\n",
       "    </tr>\n",
       "    <tr>\n",
       "      <th>2023-09-05</th>\n",
       "      <td>34641.96875</td>\n",
       "      <td>4496.830078</td>\n",
       "      <td>15508.240230</td>\n",
       "    </tr>\n",
       "    <tr>\n",
       "      <th>2023-09-06</th>\n",
       "      <td>34443.19141</td>\n",
       "      <td>4465.479980</td>\n",
       "      <td>15371.440430</td>\n",
       "    </tr>\n",
       "    <tr>\n",
       "      <th>2023-09-07</th>\n",
       "      <td>34500.73047</td>\n",
       "      <td>4451.140137</td>\n",
       "      <td>15258.519530</td>\n",
       "    </tr>\n",
       "    <tr>\n",
       "      <th>2023-09-08</th>\n",
       "      <td>34576.58984</td>\n",
       "      <td>4457.490234</td>\n",
       "      <td>15280.230470</td>\n",
       "    </tr>\n",
       "    <tr>\n",
       "      <th>2023-09-11</th>\n",
       "      <td>34663.71875</td>\n",
       "      <td>4487.459961</td>\n",
       "      <td>15461.865230</td>\n",
       "    </tr>\n",
       "  </tbody>\n",
       "</table>\n",
       "<p>950 rows × 3 columns</p>\n",
       "</div>"
      ],
      "text/plain": [
       "              Dow Jones       SP 500        Nasdaq\n",
       "Date                                              \n",
       "2019-12-02  27783.03906  3113.870117   8309.259766\n",
       "2019-12-03  27502.81055  3093.199951   8254.740234\n",
       "2019-12-04  27649.77930  3112.760010   8296.530273\n",
       "2019-12-05  27677.78906  3117.429932   8308.400391\n",
       "2019-12-06  28015.06055  3145.909912   8397.370117\n",
       "...                 ...          ...           ...\n",
       "2023-09-05  34641.96875  4496.830078  15508.240230\n",
       "2023-09-06  34443.19141  4465.479980  15371.440430\n",
       "2023-09-07  34500.73047  4451.140137  15258.519530\n",
       "2023-09-08  34576.58984  4457.490234  15280.230470\n",
       "2023-09-11  34663.71875  4487.459961  15461.865230\n",
       "\n",
       "[950 rows x 3 columns]"
      ]
     },
     "execution_count": 3,
     "metadata": {},
     "output_type": "execute_result"
    }
   ],
   "source": [
    "indices = pd.read_csv('indices.csv')\n",
    "indices.info()\n",
    "indices[\"Date\"] = indices[\"Date\"].astype(\"datetime64[ns]\")\n",
    "indices.set_index('Date', inplace=True)\n",
    "indices "
   ]
  },
  {
   "cell_type": "markdown",
   "metadata": {},
   "source": [
    "## Task 1: Plot the stock of all three indices in one plpt"
   ]
  },
  {
   "cell_type": "code",
   "execution_count": 4,
   "metadata": {},
   "outputs": [],
   "source": [
    "## your code"
   ]
  },
  {
   "cell_type": "markdown",
   "metadata": {},
   "source": [
    "Do you see any problems with this representation?\n",
    "\n",
    "## Task 2: Plot The inidices in three sub-plots below each other\n",
    "\n",
    "Is that easy to compare? "
   ]
  },
  {
   "cell_type": "code",
   "execution_count": 5,
   "metadata": {},
   "outputs": [],
   "source": [
    "## your code"
   ]
  },
  {
   "cell_type": "markdown",
   "metadata": {},
   "source": [
    "## Task 3: Plotting Change\n",
    " \n",
    "Create a derived dataset that contains the change relative to the first day in your dataset and plot this in one plot. "
   ]
  },
  {
   "cell_type": "code",
   "execution_count": 6,
   "metadata": {},
   "outputs": [],
   "source": [
    "## your code"
   ]
  }
 ],
 "metadata": {
  "kernelspec": {
   "display_name": "base",
   "language": "python",
   "name": "python3"
  },
  "language_info": {
   "codemirror_mode": {
    "name": "ipython",
    "version": 3
   },
   "file_extension": ".py",
   "mimetype": "text/x-python",
   "name": "python",
   "nbconvert_exporter": "python",
   "pygments_lexer": "ipython3",
   "version": "3.11.4"
  },
  "orig_nbformat": 4
 },
 "nbformat": 4,
 "nbformat_minor": 2
}
