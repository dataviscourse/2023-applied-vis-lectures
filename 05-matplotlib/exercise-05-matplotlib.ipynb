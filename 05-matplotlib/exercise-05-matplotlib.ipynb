{
 "cells": [
  {
   "cell_type": "code",
   "execution_count": 3,
   "metadata": {},
   "outputs": [],
   "source": [
    "import matplotlib\n",
    "import matplotlib.pyplot as plt\n",
    "import pandas as pd\n",
    "import numpy as np\n",
    "plt.style.use('default')\n",
    "# This next line tells jupyter to render the images inline\n",
    "%matplotlib inline\n",
    "import matplotlib_inline\n",
    "# This renders your figures as vector graphics AND gives you an option to download a Pindices too\n",
    "matplotlib_inline.backend_inline.set_matplotlib_formats('svg', 'pdf')"
   ]
  },
  {
   "cell_type": "markdown",
   "metadata": {},
   "source": [
    "# Exercise: Visualizing Stock Indices\n",
    "\n",
    "We're loading three stock indices here; the Nasdaq, the SP 500, the Dow Jones. We're also setting it up correclty with date time. "
   ]
  },
  {
   "cell_type": "code",
   "execution_count": 4,
   "metadata": {},
   "outputs": [
    {
     "name": "stdout",
     "output_type": "stream",
     "text": [
      "<class 'pandas.core.frame.DataFrame'>\n",
      "RangeIndex: 946 entries, 0 to 945\n",
      "Data columns (total 4 columns):\n",
      " #   Column     Non-Null Count  Dtype  \n",
      "---  ------     --------------  -----  \n",
      " 0   Date       946 non-null    object \n",
      " 1   Nasdaq     946 non-null    float64\n",
      " 2   SP 500     946 non-null    float64\n",
      " 3   Dow Jones  945 non-null    float64\n",
      "dtypes: float64(3), object(1)\n",
      "memory usage: 29.7+ KB\n"
     ]
    },
    {
     "data": {
      "text/html": [
       "<div>\n",
       "<style scoped>\n",
       "    .dataframe tbody tr th:only-of-type {\n",
       "        vertical-align: middle;\n",
       "    }\n",
       "\n",
       "    .dataframe tbody tr th {\n",
       "        vertical-align: top;\n",
       "    }\n",
       "\n",
       "    .dataframe thead th {\n",
       "        text-align: right;\n",
       "    }\n",
       "</style>\n",
       "<table border=\"1\" class=\"dataframe\">\n",
       "  <thead>\n",
       "    <tr style=\"text-align: right;\">\n",
       "      <th></th>\n",
       "      <th>Nasdaq</th>\n",
       "      <th>SP 500</th>\n",
       "      <th>Dow Jones</th>\n",
       "    </tr>\n",
       "    <tr>\n",
       "      <th>Date</th>\n",
       "      <th></th>\n",
       "      <th></th>\n",
       "      <th></th>\n",
       "    </tr>\n",
       "  </thead>\n",
       "  <tbody>\n",
       "    <tr>\n",
       "      <th>2019-12-02 16:00:00</th>\n",
       "      <td>8567.99</td>\n",
       "      <td>3113.87</td>\n",
       "      <td>27783.04</td>\n",
       "    </tr>\n",
       "    <tr>\n",
       "      <th>2019-12-03 16:00:00</th>\n",
       "      <td>8520.64</td>\n",
       "      <td>3093.20</td>\n",
       "      <td>27502.81</td>\n",
       "    </tr>\n",
       "    <tr>\n",
       "      <th>2019-12-04 16:00:00</th>\n",
       "      <td>8566.67</td>\n",
       "      <td>3112.76</td>\n",
       "      <td>27649.78</td>\n",
       "    </tr>\n",
       "    <tr>\n",
       "      <th>2019-12-05 16:00:00</th>\n",
       "      <td>8570.70</td>\n",
       "      <td>3117.43</td>\n",
       "      <td>27677.79</td>\n",
       "    </tr>\n",
       "    <tr>\n",
       "      <th>2019-12-06 16:00:00</th>\n",
       "      <td>8656.53</td>\n",
       "      <td>3145.91</td>\n",
       "      <td>28015.06</td>\n",
       "    </tr>\n",
       "    <tr>\n",
       "      <th>...</th>\n",
       "      <td>...</td>\n",
       "      <td>...</td>\n",
       "      <td>...</td>\n",
       "    </tr>\n",
       "    <tr>\n",
       "      <th>2023-08-29 16:00:00</th>\n",
       "      <td>13943.76</td>\n",
       "      <td>4497.63</td>\n",
       "      <td>34890.24</td>\n",
       "    </tr>\n",
       "    <tr>\n",
       "      <th>2023-08-30 16:00:00</th>\n",
       "      <td>14019.31</td>\n",
       "      <td>4514.87</td>\n",
       "      <td>34721.91</td>\n",
       "    </tr>\n",
       "    <tr>\n",
       "      <th>2023-08-31 16:00:00</th>\n",
       "      <td>14034.97</td>\n",
       "      <td>4507.66</td>\n",
       "      <td>34837.71</td>\n",
       "    </tr>\n",
       "    <tr>\n",
       "      <th>2023-09-01 16:00:00</th>\n",
       "      <td>14031.82</td>\n",
       "      <td>4515.77</td>\n",
       "      <td>34641.97</td>\n",
       "    </tr>\n",
       "    <tr>\n",
       "      <th>2023-09-05 16:00:00</th>\n",
       "      <td>14020.95</td>\n",
       "      <td>4496.83</td>\n",
       "      <td>NaN</td>\n",
       "    </tr>\n",
       "  </tbody>\n",
       "</table>\n",
       "<p>946 rows × 3 columns</p>\n",
       "</div>"
      ],
      "text/plain": [
       "                       Nasdaq   SP 500  Dow Jones\n",
       "Date                                             \n",
       "2019-12-02 16:00:00   8567.99  3113.87   27783.04\n",
       "2019-12-03 16:00:00   8520.64  3093.20   27502.81\n",
       "2019-12-04 16:00:00   8566.67  3112.76   27649.78\n",
       "2019-12-05 16:00:00   8570.70  3117.43   27677.79\n",
       "2019-12-06 16:00:00   8656.53  3145.91   28015.06\n",
       "...                       ...      ...        ...\n",
       "2023-08-29 16:00:00  13943.76  4497.63   34890.24\n",
       "2023-08-30 16:00:00  14019.31  4514.87   34721.91\n",
       "2023-08-31 16:00:00  14034.97  4507.66   34837.71\n",
       "2023-09-01 16:00:00  14031.82  4515.77   34641.97\n",
       "2023-09-05 16:00:00  14020.95  4496.83        NaN\n",
       "\n",
       "[946 rows x 3 columns]"
      ]
     },
     "execution_count": 4,
     "metadata": {},
     "output_type": "execute_result"
    }
   ],
   "source": [
    "indices = pd.read_csv('indices.csv')\n",
    "indices.info()\n",
    "indices[\"Date\"] = indices[\"Date\"].astype(\"datetime64\")\n",
    "indices.set_index('Date', inplace=True)\n",
    "indices "
   ]
  },
  {
   "cell_type": "markdown",
   "metadata": {},
   "source": [
    "## Task 1: Plot the stock of all three indices in one plpt"
   ]
  },
  {
   "cell_type": "markdown",
   "metadata": {},
   "source": [
    "Do you see any problems with this representation?\n",
    "\n",
    "## Task 2: Plot The inidices in three sub-plots below each other\n",
    "\n",
    "Is that easy to compare? "
   ]
  },
  {
   "cell_type": "code",
   "execution_count": null,
   "metadata": {},
   "outputs": [],
   "source": []
  },
  {
   "cell_type": "markdown",
   "metadata": {},
   "source": [
    "## Task 3: Plotting Change\n",
    " \n",
    "Create a derived dataset that contains the change relative to the first day in your dataset and plot this in one plot. "
   ]
  },
  {
   "cell_type": "code",
   "execution_count": null,
   "metadata": {},
   "outputs": [],
   "source": []
  }
 ],
 "metadata": {
  "kernelspec": {
   "display_name": "base",
   "language": "python",
   "name": "python3"
  },
  "language_info": {
   "codemirror_mode": {
    "name": "ipython",
    "version": 3
   },
   "file_extension": ".py",
   "mimetype": "text/x-python",
   "name": "python",
   "nbconvert_exporter": "python",
   "pygments_lexer": "ipython3",
   "version": "3.11.3"
  },
  "orig_nbformat": 4
 },
 "nbformat": 4,
 "nbformat_minor": 2
}
